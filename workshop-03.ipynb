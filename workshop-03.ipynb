{
 "cells": [
  {
   "cell_type": "markdown",
   "metadata": {},
   "source": [
    "# Module 2:\n",
    "Make API call\n",
    "- Collect data from API &amp; store in csv\n",
    "- Scrape static websites &amp; store in csv\n",
    "---\n",
    "Scenario\n",
    "---\n",
    "\n",
    "1. You have been given a API with api documentation.\n",
    "2. Make api call from python & store the resp in a python dict\n",
    "2. (2A) *Optional*: Store the resp dict into a file (json)\n",
    "\n",
    "3. Parse the following info from the API Response.\n",
    "\n",
    "Example: URL \n",
    "\n",
    "https://min-api.cryptocompare.com/data/price?fsym=USD&tsyms=JPY,INR\n",
    "```\n",
    "{\n",
    "\"JPY\": 107.93,\n",
    "\"INR\": 84.82\n",
    "}\n",
    "```\n",
    "4. Store that parsed infomation/data into a csv file.\n",
    "\n",
    "| sno | from_symbol | to_symbol | price | datetime |\n",
    "| ---  | ---  | ---  | ---  | --- |\n",
    "| 1 | USD | INR | 71 | ... |\n",
    "| 2 | USD | SGD | 1.37| ... |\n",
    "\n",
    "use python `time` or `datetime` module to get the current time, when you make api call and store that into the csv file..\n",
    "\n",
    "\n",
    "## Part 2: Scrape static websites\n",
    "\n",
    "\n",
    "https://www.xe.com/currencyconverter/convert/?Amount=1&From=USD&To=SGD\n",
    "\n",
    "\n",
    "![https://i.imgur.com/C4Eub9d.png](https://i.imgur.com/C4Eub9d.png)\n",
    "\n",
    "\n",
    "\n",
    "Have a look at the html as well, to parse the exchange rate.\n",
    "\n",
    "![https://i.imgur.com/vDAntcv.png](https://i.imgur.com/vDAntcv.png)\n",
    "\n",
    "1. Look at the query parameter and decide how to pass inputs..\n",
    "2. Use `bs4` library to parse the html as show below.\n",
    "3. You have to extract the price shown here and save it into a csv file..\n",
    "\n",
    "| sno | from_symbol | to_symbol | price | datetime |\n",
    "| ---  | ---  | ---  | ---  | --- |\n",
    "| 1 | USD | SGD | 1.37| ... |\n",
    "\n",
    "--- \n",
    "\n",
    "\n",
    "** Try this if you completed the base workshop **\n",
    "---\n",
    "1. Store the same data into mongodb as well\n",
    "  - create a `exchange` db in your mlab account.\n",
    "  - create a collection `exchange-rates`\n",
    "  - You can store sample record which looks like the following json.\n",
    "\n",
    "```\n",
    "{\n",
    "    \"from_symbol\": \"USD\",\n",
    "    'to_symbol' : \"SGD\",\n",
    "    \"price\" : 1.37,\n",
    "    \"datetime\" : \"....\"\n",
    "}\n",
    "```"
   ]
  },
  {
   "cell_type": "markdown",
   "metadata": {},
   "source": [
    "# Part 1"
   ]
  },
  {
   "cell_type": "code",
   "execution_count": 19,
   "metadata": {},
   "outputs": [],
   "source": [
    "from balautil import requestutil\n",
    "import csv\n",
    "from datetime import datetime\n",
    "    \n",
    "def get_timestamp():\n",
    "    timestamp =  datetime.now().strftime('%Y-%m-%d %H:%M:%S')\n",
    "    return timestamp\n",
    "\n",
    "def save_to_csv(row):\n",
    "    with open(fname, \"a\") as f:\n",
    "        csv.writer(f).writerow(row)"
   ]
  },
  {
   "cell_type": "code",
   "execution_count": 26,
   "metadata": {},
   "outputs": [
    {
     "name": "stdout",
     "output_type": "stream",
     "text": [
      "Enter source symbol:USD\n",
      "Enter target symbols: <>,<>SGD,INR\n"
     ]
    }
   ],
   "source": [
    "fsym = input (\"Enter source symbol:\")\n",
    "tsyms = input (\"Enter target symbols: <>,<>\")\n",
    "fname = \"workshop3 part1.csv\"\n",
    "\n",
    "url = f\"https://min-api.cryptocompare.com/data/price?fsym={fsym}&tsyms={tsyms}\"\n",
    "\n",
    "data = requestutil.Get(url)\n",
    "\n",
    "\n",
    "for to_symbol, price in data.items():\n",
    "    row = (fsym, to_symbol, price, get_timestamp())\n",
    "    save_to_csv(row)"
   ]
  },
  {
   "cell_type": "code",
   "execution_count": 27,
   "metadata": {},
   "outputs": [
    {
     "data": {
      "text/html": [
       "<div>\n",
       "<style scoped>\n",
       "    .dataframe tbody tr th:only-of-type {\n",
       "        vertical-align: middle;\n",
       "    }\n",
       "\n",
       "    .dataframe tbody tr th {\n",
       "        vertical-align: top;\n",
       "    }\n",
       "\n",
       "    .dataframe thead th {\n",
       "        text-align: right;\n",
       "    }\n",
       "</style>\n",
       "<table border=\"1\" class=\"dataframe\">\n",
       "  <thead>\n",
       "    <tr style=\"text-align: right;\">\n",
       "      <th></th>\n",
       "      <th>from_symbol</th>\n",
       "      <th>to_symbol</th>\n",
       "      <th>price</th>\n",
       "      <th>datetime</th>\n",
       "    </tr>\n",
       "  </thead>\n",
       "  <tbody>\n",
       "    <tr>\n",
       "      <th>0</th>\n",
       "      <td>USD</td>\n",
       "      <td>SGD</td>\n",
       "      <td>1.379</td>\n",
       "      <td>2019-09-25 11:09:10</td>\n",
       "    </tr>\n",
       "    <tr>\n",
       "      <th>1</th>\n",
       "      <td>USD</td>\n",
       "      <td>INR</td>\n",
       "      <td>78.110</td>\n",
       "      <td>2019-09-25 11:09:10</td>\n",
       "    </tr>\n",
       "  </tbody>\n",
       "</table>\n",
       "</div>"
      ],
      "text/plain": [
       "  from_symbol to_symbol   price             datetime\n",
       "0         USD       SGD   1.379  2019-09-25 11:09:10\n",
       "1         USD       INR  78.110  2019-09-25 11:09:10"
      ]
     },
     "execution_count": 27,
     "metadata": {},
     "output_type": "execute_result"
    }
   ],
   "source": [
    "import pandas as pd\n",
    "pd.read_csv(\"workshop3 part1.csv\", names=[\"from_symbol\", \"to_symbol\", \"price\", \"datetime\"])"
   ]
  },
  {
   "cell_type": "markdown",
   "metadata": {},
   "source": [
    "# Part 2"
   ]
  },
  {
   "cell_type": "code",
   "execution_count": 30,
   "metadata": {},
   "outputs": [],
   "source": [
    "from selenium import webdriver\n",
    "from bs4 import BeautifulSoup\n",
    "import csv\n",
    "from datetime import datetime\n",
    "    \n",
    "def get_timestamp():\n",
    "    timestamp =  datetime.now().strftime('%Y-%m-%d %H:%M:%S')\n",
    "    return timestamp\n",
    "\n",
    "def get_html_data(url):    \n",
    "    driver = webdriver.Chrome()\n",
    "    driver.get(url)\n",
    "    html_data = driver.page_source\n",
    "    driver.close()\n",
    "    return html_data\n",
    "\n",
    "def save_to_csv(row):\n",
    "    with open(fname, \"a\") as f:\n",
    "        csv.writer(f).writerow(row)"
   ]
  },
  {
   "cell_type": "code",
   "execution_count": 33,
   "metadata": {},
   "outputs": [
    {
     "name": "stdout",
     "output_type": "stream",
     "text": [
      "Enter source symbol:USD\n",
      "Enter target symbols:SGD\n"
     ]
    }
   ],
   "source": [
    "fsym = input(\"Enter source symbol:\")\n",
    "tsym = input(\"Enter target symbols:\")\n",
    "fname = \"workshop3 part2.csv\"\n",
    "\n",
    "url = f'https://www.xe.com/currencyconverter/convert/?Amount=1&From={fsym}&To={tsym}'\n",
    "\n",
    "data = get_html_data(url)\n",
    "\n",
    "soup = BeautifulSoup(data, \"html.parser\")\n",
    "pricetag = soup.find(\"span\", { \"class\": \"converterresult-toAmount\"}  )\n",
    "price = pricetag.text\n",
    "\n",
    "row = (fsym, tsym, price, get_timestamp())\n",
    "save_to_csv(row)"
   ]
  },
  {
   "cell_type": "code",
   "execution_count": 34,
   "metadata": {},
   "outputs": [
    {
     "data": {
      "text/html": [
       "<div>\n",
       "<style scoped>\n",
       "    .dataframe tbody tr th:only-of-type {\n",
       "        vertical-align: middle;\n",
       "    }\n",
       "\n",
       "    .dataframe tbody tr th {\n",
       "        vertical-align: top;\n",
       "    }\n",
       "\n",
       "    .dataframe thead th {\n",
       "        text-align: right;\n",
       "    }\n",
       "</style>\n",
       "<table border=\"1\" class=\"dataframe\">\n",
       "  <thead>\n",
       "    <tr style=\"text-align: right;\">\n",
       "      <th></th>\n",
       "      <th>from_symbol</th>\n",
       "      <th>to_symbol</th>\n",
       "      <th>price</th>\n",
       "      <th>datetime</th>\n",
       "    </tr>\n",
       "  </thead>\n",
       "  <tbody>\n",
       "    <tr>\n",
       "      <th>0</th>\n",
       "      <td>USD</td>\n",
       "      <td>SGD</td>\n",
       "      <td>1.37584</td>\n",
       "      <td>2019-09-25 11:25:01</td>\n",
       "    </tr>\n",
       "    <tr>\n",
       "      <th>1</th>\n",
       "      <td>USD</td>\n",
       "      <td>SGD</td>\n",
       "      <td>1.37601</td>\n",
       "      <td>2019-09-25 11:26:47</td>\n",
       "    </tr>\n",
       "  </tbody>\n",
       "</table>\n",
       "</div>"
      ],
      "text/plain": [
       "  from_symbol to_symbol    price             datetime\n",
       "0         USD       SGD  1.37584  2019-09-25 11:25:01\n",
       "1         USD       SGD  1.37601  2019-09-25 11:26:47"
      ]
     },
     "execution_count": 34,
     "metadata": {},
     "output_type": "execute_result"
    }
   ],
   "source": [
    "import pandas as pd\n",
    "pd.read_csv(\"workshop3 part2.csv\", names=[\"from_symbol\", \"to_symbol\", \"price\", \"datetime\"])"
   ]
  }
 ],
 "metadata": {
  "kernelspec": {
   "display_name": "Python 3",
   "language": "python",
   "name": "python3"
  },
  "language_info": {
   "codemirror_mode": {
    "name": "ipython",
    "version": 3
   },
   "file_extension": ".py",
   "mimetype": "text/x-python",
   "name": "python",
   "nbconvert_exporter": "python",
   "pygments_lexer": "ipython3",
   "version": "3.7.3"
  }
 },
 "nbformat": 4,
 "nbformat_minor": 2
}

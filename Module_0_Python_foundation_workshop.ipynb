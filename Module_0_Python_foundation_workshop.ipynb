{
 "cells": [
  {
   "cell_type": "markdown",
   "metadata": {
    "colab_type": "text",
    "id": "CCtJz8xPKuc6"
   },
   "source": [
    "# Module 0\n",
    "- Foundational Python refresher..."
   ]
  },
  {
   "cell_type": "code",
   "execution_count": 0,
   "metadata": {
    "colab": {},
    "colab_type": "code",
    "id": "mhJvjTUlKwBm"
   },
   "outputs": [],
   "source": []
  },
  {
   "cell_type": "markdown",
   "metadata": {
    "colab_type": "text",
    "id": "9xO2aKagLnyW"
   },
   "source": [
    "#### For each of the following expressions, indicate the type of the expression. \n",
    "*While you could simply type these expressions into your shell, we encourage you to answer them directly since this will help reinforce your understanding of basic Python expressions.*"
   ]
  },
  {
   "cell_type": "code",
   "execution_count": 1,
   "metadata": {
    "colab": {},
    "colab_type": "code",
    "id": "8013CH4QMoBv"
   },
   "outputs": [
    {
     "data": {
      "text/plain": [
       "float"
      ]
     },
     "execution_count": 1,
     "metadata": {},
     "output_type": "execute_result"
    }
   ],
   "source": [
    "# 3.14\n",
    "# Select an option NoneType int float bool\n",
    "float"
   ]
  },
  {
   "cell_type": "code",
   "execution_count": 2,
   "metadata": {
    "colab": {},
    "colab_type": "code",
    "id": "AHBBr4j5MoE6"
   },
   "outputs": [
    {
     "data": {
      "text/plain": [
       "int"
      ]
     },
     "execution_count": 2,
     "metadata": {},
     "output_type": "execute_result"
    }
   ],
   "source": [
    "# -34\n",
    "# Select an option NoneType int float bool\n",
    "int"
   ]
  },
  {
   "cell_type": "code",
   "execution_count": 3,
   "metadata": {
    "colab": {},
    "colab_type": "code",
    "id": "GfDZkrREMoMd"
   },
   "outputs": [
    {
     "data": {
      "text/plain": [
       "bool"
      ]
     },
     "execution_count": 3,
     "metadata": {},
     "output_type": "execute_result"
    }
   ],
   "source": [
    "# True\n",
    "# Select an option NoneType int float bool\n",
    "bool"
   ]
  },
  {
   "cell_type": "code",
   "execution_count": null,
   "metadata": {},
   "outputs": [],
   "source": [
    "# None\n",
    "# Select an option NoneType int float bool\n",
    "NoneType"
   ]
  },
  {
   "cell_type": "code",
   "execution_count": 5,
   "metadata": {
    "colab": {},
    "colab_type": "code",
    "id": "TtP1MLblM0CD"
   },
   "outputs": [
    {
     "data": {
      "text/plain": [
       "float"
      ]
     },
     "execution_count": 5,
     "metadata": {},
     "output_type": "execute_result"
    }
   ],
   "source": [
    "# 3.0\n",
    "# Select an option NoneType int float bool\n",
    "float"
   ]
  },
  {
   "cell_type": "markdown",
   "metadata": {
    "colab_type": "text",
    "id": "QMQEATBnM5Ic"
   },
   "source": [
    "#### Conditional Statement Revisited\n",
    "\n"
   ]
  },
  {
   "cell_type": "markdown",
   "metadata": {
    "colab_type": "text",
    "id": "nKSJJXZyNJ3q"
   },
   "source": [
    "- 3 > 4\n",
    "\n",
    "- 4.0 > 3.999\n",
    "\n",
    "- 4 > 4\n",
    "\n",
    "- 4 > + 4\n",
    "\n",
    "- 2 + 2 == 4\n",
    "\n",
    "- True and False\n",
    "\n",
    "- False or False\n",
    "\n",
    "- not False\n",
    "\n",
    "- (3.0 - 1.0) != (5.0 - 3.0)\n",
    "\n",
    "- 3 > 4 or (2 < 3 and 9 > 10)\n",
    "\n",
    "- 4 > 5 or 3 < 4 and 9 > 8\n",
    "\n",
    "- not(4 > 3 and 100 > 6)"
   ]
  },
  {
   "cell_type": "code",
   "execution_count": 4,
   "metadata": {
    "colab": {},
    "colab_type": "code",
    "id": "82sribmIM6oT"
   },
   "outputs": [],
   "source": [
    "# Write the answers below"
   ]
  },
  {
   "cell_type": "code",
   "execution_count": 0,
   "metadata": {
    "colab": {},
    "colab_type": "code",
    "id": "cyLlp5rrNn_n"
   },
   "outputs": [],
   "source": [
    "false\n",
    "true\n",
    "false\n",
    "false\n",
    "true\n",
    "false\n",
    "false\n",
    "true\n",
    "false\n",
    "false\n",
    "true\n",
    "false"
   ]
  },
  {
   "cell_type": "markdown",
   "metadata": {
    "colab_type": "text",
    "id": "pF6omyokNoKh"
   },
   "source": [
    "#### ASSIGNMENT VS Conditionals\n"
   ]
  },
  {
   "cell_type": "markdown",
   "metadata": {
    "colab_type": "text",
    "id": "u-93PM6uNxox"
   },
   "source": [
    "Ouput ??\n",
    "```\n",
    "a = 5\n",
    "a == 5.0\n",
    "a\n",
    "```"
   ]
  },
  {
   "cell_type": "code",
   "execution_count": 0,
   "metadata": {
    "colab": {},
    "colab_type": "code",
    "id": "ye81YlBHOBPS"
   },
   "outputs": [],
   "source": [
    "5"
   ]
  },
  {
   "cell_type": "code",
   "execution_count": 14,
   "metadata": {},
   "outputs": [
    {
     "data": {
      "text/plain": [
       "5"
      ]
     },
     "execution_count": 14,
     "metadata": {},
     "output_type": "execute_result"
    }
   ],
   "source": [
    "a = 5\n",
    "a == 5.0\n",
    "a"
   ]
  },
  {
   "cell_type": "markdown",
   "metadata": {
    "colab_type": "text",
    "id": "_DlGKrKEN8dr"
   },
   "source": [
    "Ouput ??\n",
    "```\n",
    "b = 10\n",
    "c = b > 9\n",
    "c\n",
    "```"
   ]
  },
  {
   "cell_type": "code",
   "execution_count": 0,
   "metadata": {
    "colab": {},
    "colab_type": "code",
    "id": "tIS_RNvWNrKH"
   },
   "outputs": [],
   "source": [
    "true"
   ]
  },
  {
   "cell_type": "code",
   "execution_count": 15,
   "metadata": {},
   "outputs": [
    {
     "data": {
      "text/plain": [
       "True"
      ]
     },
     "execution_count": 15,
     "metadata": {},
     "output_type": "execute_result"
    }
   ],
   "source": [
    "b = 10\n",
    "c = b > 9\n",
    "c"
   ]
  },
  {
   "cell_type": "markdown",
   "metadata": {
    "colab_type": "text",
    "id": "hnAjXbsmNoQR"
   },
   "source": [
    "#### Advanced String manipulations Revisited"
   ]
  },
  {
   "cell_type": "markdown",
   "metadata": {
    "colab_type": "text",
    "id": "M7aVETqlOLay"
   },
   "source": [
    "```\n",
    "- \"a\" + \"bc\"\n",
    "\n",
    "- 3 * \"bc\"\n",
    "\n",
    "- \"3\" * \"bc\"\n",
    "\n",
    "- \"Abcd\"[2]\n",
    "\n",
    "- \"Abcd\"[0:2]\n",
    "\n",
    "- \"Abcd\"[ :2 ]\n",
    "\n",
    "- \"Abcd\"[2:]\n",
    "```"
   ]
  },
  {
   "cell_type": "code",
   "execution_count": 0,
   "metadata": {
    "colab": {},
    "colab_type": "code",
    "id": "0SvKLOeWOVuR"
   },
   "outputs": [],
   "source": [
    "abc\n",
    "bcbcbc\n",
    "error\n",
    "c\n",
    "Ab\n",
    "Ab\n",
    "cd"
   ]
  },
  {
   "cell_type": "markdown",
   "metadata": {
    "colab_type": "text",
    "id": "zIl9C0jbOL1l"
   },
   "source": [
    "#### More on strings & slicing..\n",
    "\n",
    "```\n",
    "str1 = 'hello'\n",
    "str2 = ','\n",
    "str3 = 'world'\n",
    "```"
   ]
  },
  {
   "cell_type": "markdown",
   "metadata": {
    "colab_type": "text",
    "id": "S1yJvqWMPGEQ"
   },
   "source": [
    "Part 1 - Answer the following\n",
    "\n",
    "```\n",
    "- str1[0]\n",
    "\n",
    "- Str1[1]\n",
    "\n",
    "- str1[-1]\n",
    "\n",
    "- len(str1)\n",
    "\n",
    "- str1[ len(str1)-1 ]\n",
    "\n",
    "- str1[-1 : len(str1)-1 ]\n",
    "\n",
    "- str1 + str2 + str3\n",
    "\n",
    "- str1 + str2 + ' ' + str3\n",
    "\n",
    "- str3 * 3\n",
    "\n",
    "- 'hello' == str1\n",
    "\n",
    "- 'HELLO' == str1\n",
    "\n",
    "- 'a' in str3\n",
    "```"
   ]
  },
  {
   "cell_type": "code",
   "execution_count": 0,
   "metadata": {
    "colab": {},
    "colab_type": "code",
    "id": "wfRykJN7Qook"
   },
   "outputs": [],
   "source": [
    "h\n",
    "error\n",
    "o\n",
    "5\n",
    "o\n",
    "error\n",
    "hello,world\n",
    "hello, world\n",
    "worldworldworld\n",
    "true\n",
    "false\n",
    "false"
   ]
  },
  {
   "cell_type": "markdown",
   "metadata": {
    "colab_type": "text",
    "id": "etoxGBJFPODB"
   },
   "source": [
    "Part 2 - Answer the following\n",
    "\n",
    "```\n",
    "- str4 = 'helloworld'\n",
    "\n",
    "- 'low' in str4\n",
    "\n",
    "- str3[1:3]\n",
    "\n",
    "- str3[:3]\n",
    "\n",
    "- [str3:-1]\n",
    "\n",
    "- str1[1:]\n",
    "\n",
    "- str4[1:9]\n",
    "\n",
    "- str4[9:1:2] \n",
    "\n",
    "- Str4[::-1]\n",
    "```"
   ]
  },
  {
   "cell_type": "code",
   "execution_count": 0,
   "metadata": {
    "colab": {},
    "colab_type": "code",
    "id": "fpyJaBNHQoHL"
   },
   "outputs": [],
   "source": [
    "helloworld\n",
    "true\n",
    "or *\n",
    "wor *\n",
    "error\n",
    "ello *\n",
    "elloworl\n",
    "drol\n",
    "dlorwolleh"
   ]
  },
  {
   "cell_type": "markdown",
   "metadata": {
    "colab_type": "text",
    "id": "sXo4bq1GPu0s"
   },
   "source": [
    "#### Conditionals\n",
    "\n",
    "Ouput ??\n",
    "\n",
    "```\n",
    "if 6 > 7:\n",
    "   print(\"Yep\")\n",
    "```\n"
   ]
  },
  {
   "cell_type": "code",
   "execution_count": 0,
   "metadata": {
    "colab": {},
    "colab_type": "code",
    "id": "Ozp7-tDWP23e"
   },
   "outputs": [],
   "source": [
    "\"\""
   ]
  },
  {
   "cell_type": "markdown",
   "metadata": {
    "colab_type": "text",
    "id": "IV48xrPLP2Qe"
   },
   "source": [
    "Ouput ??\n",
    "```\n",
    "if 6 > 7:\n",
    "   print(\"Yep\")\n",
    "else:\n",
    "   print(\"Nope\")\n",
    "```"
   ]
  },
  {
   "cell_type": "code",
   "execution_count": 0,
   "metadata": {
    "colab": {},
    "colab_type": "code",
    "id": "sutpFz6UQBPG"
   },
   "outputs": [],
   "source": [
    "Nope"
   ]
  },
  {
   "cell_type": "markdown",
   "metadata": {
    "colab_type": "text",
    "id": "g8Q0gpYBP61n"
   },
   "source": [
    "Ouput ??\n",
    "```\n",
    "var = 'Panda'\n",
    "if var == \"panda\":\n",
    "   print(\"Cute!\")\n",
    "elif var == \"Panda\":\n",
    "   print(\"Regal!\")\n",
    "else:\n",
    "   print(\"Ugly...\")\n",
    "```"
   ]
  },
  {
   "cell_type": "code",
   "execution_count": 0,
   "metadata": {
    "colab": {},
    "colab_type": "code",
    "id": "mFREAMj5QBlH"
   },
   "outputs": [],
   "source": [
    "Regal!"
   ]
  },
  {
   "cell_type": "markdown",
   "metadata": {
    "colab_type": "text",
    "id": "ASBWTfO-P_Td"
   },
   "source": [
    "Ouput ??\n",
    "```\n",
    "temp = 120\n",
    "if temp > 85:\n",
    "   print(\"Hot\")\n",
    "elif temp > 100:\n",
    "   print(\"REALLY HOT!\")\n",
    "elif temp > 60:\n",
    "   print(\"Comfortable\") \n",
    "else:\n",
    "   print(\"Cold\")\n",
    "```"
   ]
  },
  {
   "cell_type": "code",
   "execution_count": null,
   "metadata": {
    "colab": {},
    "colab_type": "code",
    "id": "QrpbrDtyX-R8"
   },
   "outputs": [],
   "source": [
    "Hot"
   ]
  },
  {
   "cell_type": "code",
   "execution_count": null,
   "metadata": {},
   "outputs": [],
   "source": [
    "#if the first one is true, straight take the first one"
   ]
  },
  {
   "cell_type": "markdown",
   "metadata": {
    "colab_type": "text",
    "id": "q-xee43DQIIx"
   },
   "source": [
    "Output ??\n",
    "```\n",
    "temp = 50\n",
    "if temp > 85:\n",
    "   print(\"Hot\")\n",
    "elif temp > 100:\n",
    "   print(\"REALLY HOT!\")\n",
    "elif temp > 60:\n",
    "   print(\"Comfortable\")\n",
    "else:\n",
    "   print(\"Cold\")\n",
    "\n",
    "```"
   ]
  },
  {
   "cell_type": "code",
   "execution_count": 0,
   "metadata": {
    "colab": {},
    "colab_type": "code",
    "id": "VTTnF_mdQCBw"
   },
   "outputs": [],
   "source": [
    "Cold"
   ]
  },
  {
   "cell_type": "markdown",
   "metadata": {
    "colab_type": "text",
    "id": "jyGs6dF9RKsy"
   },
   "source": [
    "#### TELL ME THE OUTPUT OF THE FOLLOWING PROGRAM"
   ]
  },
  {
   "cell_type": "markdown",
   "metadata": {
    "colab_type": "text",
    "id": "NpMYBfrkRPoD"
   },
   "source": [
    "Output ??\n",
    "```\n",
    "num = 5\n",
    "if num > 2:\n",
    "    print(num)\n",
    "    num -= 1\n",
    "print(num)\n",
    "\n",
    "```"
   ]
  },
  {
   "cell_type": "code",
   "execution_count": 0,
   "metadata": {
    "colab": {},
    "colab_type": "code",
    "id": "K68va5K-Rg0b"
   },
   "outputs": [],
   "source": [
    "5\n",
    "4"
   ]
  },
  {
   "cell_type": "markdown",
   "metadata": {
    "colab_type": "text",
    "id": "Duhvr42VRWtz"
   },
   "source": [
    "Output ??\n",
    "```\n",
    "num = 0\n",
    "while num <= 5:\n",
    "    print(num)\n",
    "    num += 1\n",
    "\n",
    "print(\"Outside of loop\")\n",
    "print(num)\n",
    "\n",
    "```"
   ]
  },
  {
   "cell_type": "code",
   "execution_count": 0,
   "metadata": {
    "colab": {},
    "colab_type": "code",
    "id": "kLseGcLURhKP"
   },
   "outputs": [],
   "source": [
    "0\n",
    "1\n",
    "2\n",
    "3\n",
    "4\n",
    "5\n",
    "Outside of loop\n",
    "6"
   ]
  },
  {
   "cell_type": "code",
   "execution_count": 3,
   "metadata": {},
   "outputs": [
    {
     "name": "stdout",
     "output_type": "stream",
     "text": [
      "0\n",
      "1\n",
      "2\n",
      "3\n",
      "4\n",
      "5\n",
      "Outside of loop\n",
      "6\n"
     ]
    }
   ],
   "source": [
    "num = 0\n",
    "while num <= 5:\n",
    "    print(num)\n",
    "    num += 1\n",
    "\n",
    "print(\"Outside of loop\")\n",
    "print(num)"
   ]
  },
  {
   "cell_type": "markdown",
   "metadata": {
    "colab_type": "text",
    "id": "OqtUeku_RbGd"
   },
   "source": [
    "Output ??\n",
    "```\n",
    "numberOfLoops = 0\n",
    "numberOfApples = 2\n",
    "while numberOfLoops < 6:\n",
    "    numberOfApples *= 2\n",
    "    numberOfApples += numberOfLoops\n",
    "    numberOfLoops -= 1\n",
    "print(\"Number of apples: \" + str(numberOfApples))\n",
    "```"
   ]
  },
  {
   "cell_type": "code",
   "execution_count": 0,
   "metadata": {
    "colab": {},
    "colab_type": "code",
    "id": "7_I63SPERhq1"
   },
   "outputs": [],
   "source": []
  },
  {
   "cell_type": "code",
   "execution_count": null,
   "metadata": {},
   "outputs": [],
   "source": [
    "numberOfLoops = 0\n",
    "numberOfApples = 2\n",
    "while numberOfLoops < 6:\n",
    "    numberOfApples *= 2\n",
    "    numberOfApples += numberOfLoops\n",
    "    numberOfLoops -= 1\n",
    "    \n",
    "print(\"Number of apples: \" + str(numberOfApples))"
   ]
  },
  {
   "cell_type": "markdown",
   "metadata": {
    "colab_type": "text",
    "id": "ZbpSRNPxRd9o"
   },
   "source": [
    "Output ??\n",
    "```\n",
    "num = 10\n",
    "while num > 3:\n",
    "   print(num)\n",
    "   num -= 1\n",
    "\n",
    "```"
   ]
  },
  {
   "cell_type": "code",
   "execution_count": null,
   "metadata": {
    "colab": {},
    "colab_type": "code",
    "id": "VVH7P4xTROWO"
   },
   "outputs": [],
   "source": [
    "10\n",
    "9\n",
    "8\n",
    "7\n",
    "6\n",
    "5\n",
    "4"
   ]
  },
  {
   "cell_type": "code",
   "execution_count": null,
   "metadata": {},
   "outputs": [],
   "source": [
    "num = 10\n",
    "while num > 3:\n",
    "   print(num)\n",
    "   num = 1"
   ]
  },
  {
   "cell_type": "markdown",
   "metadata": {
    "colab_type": "text",
    "id": "fmb2MwfARklM"
   },
   "source": [
    "Output ??\n",
    "```\n",
    "num = 10\n",
    "while True:\n",
    "    if num < 7:\n",
    "        print('Breaking out of loop')\n",
    "        break\n",
    "    print(num)\n",
    "    num -= 1\n",
    "print('Outside of loop')\n",
    "```"
   ]
  },
  {
   "cell_type": "code",
   "execution_count": 0,
   "metadata": {
    "colab": {},
    "colab_type": "code",
    "id": "7izo_zy6RlZA"
   },
   "outputs": [],
   "source": [
    "10\n",
    "9\n",
    "8\n",
    "7\n",
    "Breaking out of loop\n",
    "Outside of loop"
   ]
  },
  {
   "cell_type": "markdown",
   "metadata": {
    "colab_type": "text",
    "id": "1BlB3DyeRo8S"
   },
   "source": [
    "Output ??\n",
    "```\n",
    "num = 100\n",
    "while not False:\n",
    "    if num < 0:\n",
    "        Break\n",
    "print('num is: ' + str(num))\n",
    "```"
   ]
  },
  {
   "cell_type": "code",
   "execution_count": null,
   "metadata": {
    "colab": {},
    "colab_type": "code",
    "id": "DK-g0IsaRqtq"
   },
   "outputs": [],
   "source": []
  },
  {
   "cell_type": "markdown",
   "metadata": {
    "colab_type": "text",
    "id": "4FVnUU04RspK"
   },
   "source": [
    "#### WHILE LOOPS\n"
   ]
  },
  {
   "cell_type": "markdown",
   "metadata": {
    "colab_type": "text",
    "id": "7GuoyireRxhf"
   },
   "source": [
    "```\n",
    "Using while loops to write calculate the sum of first N numbers\n",
    "Input = 10\n",
    "Output = 1+2+3+4+5+6+7+8+9+10 = 55\n",
    "```"
   ]
  },
  {
   "cell_type": "code",
   "execution_count": null,
   "metadata": {
    "colab": {},
    "colab_type": "code",
    "id": "ZUZwQqxJSMWN"
   },
   "outputs": [],
   "source": [
    "num = 10\n",
    "total_numbers = num\n",
    "sum = 0\n",
    "while num > 0:\n",
    "    sum += num\n",
    "    num -=1\n",
    "\n",
    "print(sum)"
   ]
  },
  {
   "cell_type": "code",
   "execution_count": null,
   "metadata": {},
   "outputs": [],
   "source": [
    "def sum_of_n_numbers_while(n):\n",
    "    acc = 0\n",
    "    index = 1\n",
    "    while index == n:\n",
    "        acc += index\n",
    "        index+= 1\n",
    "    return acc\n",
    "\n",
    "sum_of_n_numbers(10) == sum_of_n_numbers_while(10)\n",
    "\n",
    "\n",
    "def sum_of_n_numbers(n):\n",
    "    acc = 0\n",
    "    for i in range(n):\n",
    "        acc += 2\n",
    "    return acc\n",
    "\n",
    "sum_of_n_numbers(10)"
   ]
  },
  {
   "cell_type": "markdown",
   "metadata": {
    "colab_type": "text",
    "id": "mkjx4-EWR29U"
   },
   "source": [
    "1. Convert the following into code that uses a while loop.\n",
    "```\n",
    "print 2\n",
    "prints 4\n",
    "prints 6\n",
    "prints 8\n",
    "prints 10\n",
    "prints Goodbye!\n",
    "```"
   ]
  },
  {
   "cell_type": "code",
   "execution_count": 0,
   "metadata": {
    "colab": {},
    "colab_type": "code",
    "id": "eXHwjG7eSAfV"
   },
   "outputs": [],
   "source": [
    "num = 2\n",
    "while num <= 10:\n",
    "    print(num)\n",
    "    num += 2\n",
    "\n",
    "print(\"Goodbye!\")"
   ]
  },
  {
   "cell_type": "markdown",
   "metadata": {
    "colab_type": "text",
    "id": "VE1XAJ9fSCr3"
   },
   "source": [
    "2. Convert the following into code that uses a while loop.\n",
    "```\n",
    "prints Hello!\n",
    "prints 10\n",
    "prints 8\n",
    "prints 6\n",
    "prints 4\n",
    "prints 2\n",
    "```"
   ]
  },
  {
   "cell_type": "code",
   "execution_count": 7,
   "metadata": {
    "colab": {},
    "colab_type": "code",
    "id": "_P3uLwkuRuKq"
   },
   "outputs": [
    {
     "name": "stdout",
     "output_type": "stream",
     "text": [
      "Hello!\n",
      "10\n",
      "8\n",
      "6\n",
      "4\n",
      "2\n"
     ]
    }
   ],
   "source": [
    "print(\"Hello!\")\n",
    "\n",
    "num = 10\n",
    "while num >= 2:\n",
    "    print(num)\n",
    "    num -= 2"
   ]
  },
  {
   "cell_type": "markdown",
   "metadata": {
    "colab_type": "text",
    "id": "2tAnDuXqSJBS"
   },
   "source": [
    "#### USE For Loops to do the same .\n",
    "\n",
    "**Refer to previous exercise**\n"
   ]
  },
  {
   "cell_type": "code",
   "execution_count": 0,
   "metadata": {
    "colab": {},
    "colab_type": "code",
    "id": "yAYIrukESOdM"
   },
   "outputs": [],
   "source": [
    "num = 10\n",
    "sum = 0\n",
    "for num in range(11):\n",
    "    sum = sum + num\n",
    "\n",
    "print(sum)"
   ]
  },
  {
   "cell_type": "code",
   "execution_count": null,
   "metadata": {},
   "outputs": [],
   "source": [
    "num = 2\n",
    "for num in range (2,11,2):\n",
    "    print(num)\n",
    "    \n",
    "print(\"Goodbye!\")"
   ]
  },
  {
   "cell_type": "code",
   "execution_count": null,
   "metadata": {},
   "outputs": [],
   "source": [
    "print(\"Hello!\")\n",
    "\n",
    "num = 10\n",
    "for num in range (10,0,-2):\n",
    "    print(num)"
   ]
  },
  {
   "cell_type": "markdown",
   "metadata": {
    "colab_type": "text",
    "id": "XTV15vV0SQVS"
   },
   "source": [
    "#### Guess the output of for loops\n",
    "\n",
    "1. \n",
    "```python\n",
    "num = 10\n",
    "for num in range(5):\n",
    "    print(num)\n",
    "print(num)\n",
    "```\n",
    "--- \n",
    "\n",
    "2. \n",
    "```python\n",
    "divisor = 2\n",
    "for num in range(0, 10, 2):\n",
    "    print(num/divisor)\n",
    "```\n",
    "---\n",
    "\n",
    "3. \n",
    "```python\n",
    "for variable in range(20):\n",
    "    if variable % 4 == 0:\n",
    "        print(variable)\n",
    "    if variable % 16 == 0:\n",
    "        print('Foo!')\n",
    "```\n",
    "---\n",
    "\n",
    "4. \n",
    "```python\n",
    "for letter in 'hola':\n",
    "    print(letter) \n",
    "```\n",
    "---\n",
    "\n",
    "5. \n",
    "```python\n",
    "count = 0\n",
    "for letter in 'Snow!':\n",
    "    print('Letter # ' + str(count) + ' is ' + str(letter))\n",
    "    count += 1\n",
    "    break\n",
    "print(count)\n",
    "```"
   ]
  },
  {
   "cell_type": "code",
   "execution_count": 0,
   "metadata": {
    "colab": {},
    "colab_type": "code",
    "id": "VFEy6h6YRuNm"
   },
   "outputs": [],
   "source": [
    "0\n",
    "1\n",
    "2\n",
    "3\n",
    "4\n",
    "4"
   ]
  },
  {
   "cell_type": "code",
   "execution_count": 0,
   "metadata": {
    "colab": {},
    "colab_type": "code",
    "id": "bNZ5V10dSzy8"
   },
   "outputs": [],
   "source": [
    "0\n",
    "1\n",
    "2\n",
    "3\n",
    "4"
   ]
  },
  {
   "cell_type": "code",
   "execution_count": null,
   "metadata": {},
   "outputs": [],
   "source": [
    "0\n",
    "Foo!\n",
    "4\n",
    "8\n",
    "12\n",
    "16\n",
    "Foo!"
   ]
  },
  {
   "cell_type": "code",
   "execution_count": null,
   "metadata": {},
   "outputs": [],
   "source": [
    "h\n",
    "o\n",
    "l\n",
    "a"
   ]
  },
  {
   "cell_type": "code",
   "execution_count": null,
   "metadata": {},
   "outputs": [],
   "source": [
    "Letter # 0 is S\n",
    "1"
   ]
  },
  {
   "cell_type": "markdown",
   "metadata": {
    "colab_type": "text",
    "id": "PFmh-LB1S0Kg"
   },
   "source": [
    "#### Python dict\n",
    "\n",
    "\n",
    "Given the following code...\n",
    "\n",
    "```python\n",
    "animals = {\n",
    "            'a': 'aardvark',\n",
    "            'b': 'baboon',\n",
    "            'c': 'coati'\n",
    "          }\n",
    "\n",
    "animals['d'] = 'donkey'\n",
    "animals['b'] = 'donkey'\n",
    "\n",
    "```"
   ]
  },
  {
   "cell_type": "markdown",
   "metadata": {
    "colab_type": "text",
    "id": "LtGZCyt_TLcD"
   },
   "source": [
    "#### Guess the output with respect to the given dict..\n",
    "\n",
    "1. \n",
    "```\n",
    "animals\n",
    "```\n",
    "--- \n",
    "\n",
    "2. \n",
    "```\n",
    "divisor = 2\n",
    "for num in range(0, 10, 2):\n",
    "    print(num/divisor)\n",
    "```\n",
    "---\n",
    "\n",
    "3. \n",
    "```\n",
    "animals['donkey'] \n",
    "```\n",
    "---\n",
    "\n",
    "4. \n",
    "```\n",
    "len(animals)\n",
    "```\n",
    "---\n",
    "\n",
    "5. \n",
    "```\n",
    "animals['a'] = 'anteater'\n",
    "```\n",
    "---\n",
    "\n",
    "6. \n",
    "```\n",
    "len(animals['a'])\n",
    "```\n",
    "---\n",
    "\n",
    "7. \n",
    "```\n",
    "'baboon' in animals \n",
    "```\n",
    "---\n",
    "\n",
    "8. \n",
    "```\n",
    " 'donkey' in animals.values()\n",
    "```\n",
    "---\n",
    "\n",
    "9. \n",
    "```\n",
    "'b' in animals \n",
    "```\n",
    "---\n",
    "10. \n",
    "```\n",
    "animals.keys()\n",
    "```\n",
    "---\n",
    "11. \n",
    "```\n",
    "del animals['b']\n",
    "len(animals)\n",
    "animals\n",
    "```\n",
    "---\n",
    "12. \n",
    "```\n",
    "animals.values()\n",
    "```"
   ]
  },
  {
   "cell_type": "code",
   "execution_count": 0,
   "metadata": {
    "colab": {},
    "colab_type": "code",
    "id": "cjA1eUI1TO5s"
   },
   "outputs": [],
   "source": [
    "## Outputs...\n",
    "'a': 'aardvark'\n",
    "'b': 'donkey'\n",
    "'c': 'coati'\n",
    "'d': 'donkey'"
   ]
  },
  {
   "cell_type": "code",
   "execution_count": null,
   "metadata": {},
   "outputs": [],
   "source": [
    "0\n",
    "1\n",
    "2\n",
    "3\n",
    "4"
   ]
  },
  {
   "cell_type": "code",
   "execution_count": null,
   "metadata": {},
   "outputs": [],
   "source": [
    "error, animals.get['donkey']"
   ]
  },
  {
   "cell_type": "code",
   "execution_count": null,
   "metadata": {},
   "outputs": [],
   "source": [
    "4"
   ]
  },
  {
   "cell_type": "code",
   "execution_count": null,
   "metadata": {},
   "outputs": [],
   "source": [
    "'a': 'anteater'\n",
    "'b': 'donkey'\n",
    "'c': 'coati'\n",
    "'d': 'donkey'"
   ]
  },
  {
   "cell_type": "code",
   "execution_count": null,
   "metadata": {},
   "outputs": [],
   "source": [
    "8"
   ]
  },
  {
   "cell_type": "code",
   "execution_count": null,
   "metadata": {},
   "outputs": [],
   "source": [
    "false, 'baboon' in animals.values()"
   ]
  },
  {
   "cell_type": "code",
   "execution_count": null,
   "metadata": {},
   "outputs": [],
   "source": [
    "error"
   ]
  },
  {
   "cell_type": "code",
   "execution_count": null,
   "metadata": {},
   "outputs": [],
   "source": [
    "true"
   ]
  },
  {
   "cell_type": "code",
   "execution_count": null,
   "metadata": {},
   "outputs": [],
   "source": [
    "\"a\"\n",
    "\"b\"\n",
    "\"c\"\n",
    "\"d\""
   ]
  },
  {
   "cell_type": "code",
   "execution_count": null,
   "metadata": {},
   "outputs": [],
   "source": [
    "3\n",
    "'a': 'anteater'\n",
    "'c': 'coati'\n",
    "'d': 'donkey'"
   ]
  },
  {
   "cell_type": "code",
   "execution_count": null,
   "metadata": {},
   "outputs": [],
   "source": [
    "'anteater'\n",
    "'coati'\n",
    "'donkey'"
   ]
  },
  {
   "cell_type": "markdown",
   "metadata": {
    "colab_type": "text",
    "id": "Hup1luuoTLe5"
   },
   "source": [
    "#### Tuples...\n",
    "\n",
    "Assume we've made the following assignment:\n",
    "\n",
    "```python\n",
    "x = (1, 2, (3, 'John', 4), 'Hi')\n",
    "```\n"
   ]
  },
  {
   "cell_type": "markdown",
   "metadata": {
    "colab_type": "text",
    "id": "VFmjuei-TLlJ"
   },
   "source": [
    "\n",
    "Ouput ???\n",
    "\n",
    "- x[0]\n",
    "---\n",
    "- x[2]\n",
    "---\n",
    "\n",
    "- x[-1]\n",
    "---\n",
    "\n",
    "- x[2][2]\n",
    "---\n",
    "\n",
    "- x[2][-1]\n",
    "---\n",
    "\n",
    "- x[-1][-1]\n",
    "---\n",
    "\n",
    "- x[-1][2]\n",
    "---\n",
    "\n",
    "- x[0:1]\n",
    "---\n",
    "\n",
    "- x[0:-1]\n",
    "---\n",
    "\n",
    "- len(x)\n",
    "---\n",
    "\n",
    "- 2 in x\n",
    "---\n",
    "\n",
    "- 3 in x\n",
    "---\n",
    "\n",
    "- x[0] = 8\n",
    "---\n",
    "```"
   ]
  },
  {
   "cell_type": "markdown",
   "metadata": {
    "colab_type": "text",
    "id": "j1mpBiJuTLno"
   },
   "source": []
  },
  {
   "cell_type": "code",
   "execution_count": 0,
   "metadata": {
    "colab": {},
    "colab_type": "code",
    "id": "ySdq8PHbVeLP"
   },
   "outputs": [],
   "source": [
    "1\n",
    "(3, 'John', 4)\n",
    "'Hi'\n",
    "4\n",
    "4\n",
    "i\n",
    "error\n",
    "1\n",
    "1, 2, (3, 'John', 4)\n",
    "4\n",
    "true\n",
    "false\n",
    "x = (8, 2, (3, 'John', 4), 'Hi')"
   ]
  },
  {
   "cell_type": "markdown",
   "metadata": {
    "colab_type": "text",
    "id": "Y7t_dKKKRD9T"
   },
   "source": [
    "## Code Snip"
   ]
  },
  {
   "cell_type": "markdown",
   "metadata": {
    "colab_type": "text",
    "id": "JxHxaQV3Qt7A"
   },
   "source": [
    "### Code Snippets 01\n",
    "\n",
    "- Write a piece of Python code that evaluates varA and varB, and then prints out one of the following messages:\n",
    "\n",
    "1. \"string involved\" if either varA or varB are strings\n",
    "2. \"bigger\" if varA is larger than varB\n",
    "3. \"equal\" if varA is equal to varB\n",
    "4.\"smaller\" if varA is smaller than varB"
   ]
  },
  {
   "cell_type": "code",
   "execution_count": null,
   "metadata": {},
   "outputs": [],
   "source": []
  },
  {
   "cell_type": "markdown",
   "metadata": {
    "colab_type": "text",
    "id": "006CV236LS7e"
   },
   "source": [
    "###  Code Snippets 02\n",
    "- Assume `s` is a string of lower case characters.\n",
    "- Write a program that counts up the number of vowels contained in the string s. \n",
    "- Valid vowels are: 'a', 'e', 'i', 'o', and 'u'. \n",
    "- For example, if s = 'azcbobobegghakl', your program should print:\n",
    "- Number of vowels: 5\n"
   ]
  },
  {
   "cell_type": "code",
   "execution_count": 5,
   "metadata": {
    "colab": {},
    "colab_type": "code",
    "id": "k7K0NNebXhKw"
   },
   "outputs": [
    {
     "name": "stdout",
     "output_type": "stream",
     "text": [
      "Enter string:azcbobobegghakl\n",
      "Number of vowels:\n",
      "5\n"
     ]
    }
   ],
   "source": [
    "string=input(\"Enter string:\")\n",
    "vowels=0\n",
    "\n",
    "for i in string:\n",
    "      if(i=='a' or i=='e' or i=='i' or i=='o' or i=='u'):\n",
    "            vowels=vowels+1\n",
    "            \n",
    "print(\"Number of vowels:\")\n",
    "print(vowels)"
   ]
  },
  {
   "cell_type": "code",
   "execution_count": 10,
   "metadata": {},
   "outputs": [
    {
     "data": {
      "text/plain": [
       "5"
      ]
     },
     "execution_count": 10,
     "metadata": {},
     "output_type": "execute_result"
    }
   ],
   "source": [
    "s = 'azcbobobegghakl'\n",
    "s.count(\"a\") + s.count(\"e\") + s.count(\"i\") + s.count(\"o\") + s.count(\"u\")"
   ]
  },
  {
   "cell_type": "code",
   "execution_count": 14,
   "metadata": {},
   "outputs": [
    {
     "data": {
      "text/plain": [
       "5"
      ]
     },
     "execution_count": 14,
     "metadata": {},
     "output_type": "execute_result"
    }
   ],
   "source": [
    "sum(map(s.count,[\"a\",\"e\",\"i\",\"o\",\"u\"]))"
   ]
  },
  {
   "cell_type": "code",
   "execution_count": null,
   "metadata": {},
   "outputs": [],
   "source": []
  }
 ],
 "metadata": {
  "colab": {
   "collapsed_sections": [],
   "name": "Module 0 - Python foundation workshop.ipynb",
   "provenance": [],
   "version": "0.3.2"
  },
  "kernelspec": {
   "display_name": "Python 3",
   "language": "python",
   "name": "python3"
  },
  "language_info": {
   "codemirror_mode": {
    "name": "ipython",
    "version": 3
   },
   "file_extension": ".py",
   "mimetype": "text/x-python",
   "name": "python",
   "nbconvert_exporter": "python",
   "pygments_lexer": "ipython3",
   "version": "3.7.3"
  }
 },
 "nbformat": 4,
 "nbformat_minor": 1
}

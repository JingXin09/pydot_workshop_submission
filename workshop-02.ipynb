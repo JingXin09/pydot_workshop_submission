{
 "cells": [
  {
   "cell_type": "markdown",
   "metadata": {},
   "source": [
    "### Workshop 02"
   ]
  },
  {
   "cell_type": "code",
   "execution_count": null,
   "metadata": {},
   "outputs": [],
   "source": [
    "1. Run some program every 30 second\n",
    "\n",
    "2. Collect some metrics cpu_usage, mem_usage of your machine....\n",
    "\n",
    "    ?????\n",
    "\n",
    "3. Save into a csv\n",
    "\n",
    "\n",
    "# Functions..."
   ]
  },
  {
   "cell_type": "code",
   "execution_count": 13,
   "metadata": {},
   "outputs": [],
   "source": [
    "# from datetime import datetime\n",
    "# str(datetime.now())"
   ]
  },
  {
   "cell_type": "code",
   "execution_count": 14,
   "metadata": {
    "scrolled": true
   },
   "outputs": [
    {
     "name": "stdout",
     "output_type": "stream",
     "text": [
      " I am collecting cpu and mem metrics \n",
      " I am collecting cpu and mem metrics \n",
      " I am collecting cpu and mem metrics \n",
      " I am collecting cpu and mem metrics \n",
      " I am collecting cpu and mem metrics \n",
      " I am collecting cpu and mem metrics \n",
      " I am collecting cpu and mem metrics \n",
      " I am collecting cpu and mem metrics \n",
      " I am collecting cpu and mem metrics \n",
      " I am collecting cpu and mem metrics \n",
      " I am collecting cpu and mem metrics \n",
      " I am collecting cpu and mem metrics \n",
      " I am collecting cpu and mem metrics \n",
      " I am collecting cpu and mem metrics \n",
      " I am collecting cpu and mem metrics \n",
      " I am collecting cpu and mem metrics \n",
      " I am collecting cpu and mem metrics \n",
      " I am collecting cpu and mem metrics \n",
      " I am collecting cpu and mem metrics \n",
      " I am collecting cpu and mem metrics \n",
      " I am collecting cpu and mem metrics \n",
      " I am collecting cpu and mem metrics \n",
      " I am collecting cpu and mem metrics \n",
      " I am collecting cpu and mem metrics \n",
      " I am collecting cpu and mem metrics \n",
      " I am collecting cpu and mem metrics \n"
     ]
    },
    {
     "ename": "KeyboardInterrupt",
     "evalue": "",
     "output_type": "error",
     "traceback": [
      "\u001b[1;31m---------------------------------------------------------------------------\u001b[0m",
      "\u001b[1;31mKeyboardInterrupt\u001b[0m                         Traceback (most recent call last)",
      "\u001b[1;32m<ipython-input-14-1dcdae124b3c>\u001b[0m in \u001b[0;36m<module>\u001b[1;34m\u001b[0m\n\u001b[0;32m     37\u001b[0m     \u001b[0mrow\u001b[0m \u001b[1;33m=\u001b[0m \u001b[0mcollect_metrics\u001b[0m\u001b[1;33m(\u001b[0m\u001b[1;33m)\u001b[0m\u001b[1;33m\u001b[0m\u001b[1;33m\u001b[0m\u001b[0m\n\u001b[0;32m     38\u001b[0m     \u001b[0mappend_to_csv\u001b[0m\u001b[1;33m(\u001b[0m\u001b[0mrow\u001b[0m\u001b[1;33m)\u001b[0m\u001b[1;33m\u001b[0m\u001b[1;33m\u001b[0m\u001b[0m\n\u001b[1;32m---> 39\u001b[1;33m     \u001b[0mtime\u001b[0m\u001b[1;33m.\u001b[0m\u001b[0msleep\u001b[0m\u001b[1;33m(\u001b[0m\u001b[1;36m30\u001b[0m\u001b[1;33m)\u001b[0m\u001b[1;33m\u001b[0m\u001b[1;33m\u001b[0m\u001b[0m\n\u001b[0m",
      "\u001b[1;31mKeyboardInterrupt\u001b[0m: "
     ]
    }
   ],
   "source": [
    "import time\n",
    "import psutil\n",
    "from datetime import datetime\n",
    "import csv\n",
    "\n",
    "CSV_FILENAME = \"workshop2.csv\"\n",
    "\n",
    "def write_header(header_row):\n",
    "    f = open(CSV_FILENAME, \"w\")\n",
    "    csv_writer = csv.writer(f)\n",
    "    csv_writer.writerow(header_row)\n",
    "    f.close()\n",
    "\n",
    "def append_to_csv(row):\n",
    "    f = open(CSV_FILENAME, \"a\")\n",
    "    csv_writer = csv.writer(f)\n",
    "    csv_writer.writerow(row)\n",
    "    f.close()\n",
    "\n",
    "def collect_metrics():\n",
    "    print( \" I am collecting cpu and mem metrics \")\n",
    "    cpu = psutil.cpu_percent()\n",
    "    mem = psutil.virtual_memory().percent\n",
    "    timestamp = str(datetime.now())\n",
    "    return (cpu, mem, timestamp)\n",
    "\n",
    "\n",
    "write_header( [\"cpu\", \"mem\", \"timestamp\"]  )\n",
    "while True:\n",
    "    row = collect_metrics()\n",
    "    append_to_csv(row)\n",
    "    time.sleep(30)"
   ]
  },
  {
   "cell_type": "code",
   "execution_count": 15,
   "metadata": {},
   "outputs": [],
   "source": [
    "import pandas as pd\n",
    "import matplotlib.pyplot as plt"
   ]
  },
  {
   "cell_type": "code",
   "execution_count": 16,
   "metadata": {},
   "outputs": [],
   "source": [
    "df = pd.read_csv(r'C:\\Users\\S023938\\Desktop\\Pydot23\\workshop2.csv')"
   ]
  },
  {
   "cell_type": "code",
   "execution_count": 17,
   "metadata": {},
   "outputs": [
    {
     "data": {
      "text/html": [
       "<div>\n",
       "<style scoped>\n",
       "    .dataframe tbody tr th:only-of-type {\n",
       "        vertical-align: middle;\n",
       "    }\n",
       "\n",
       "    .dataframe tbody tr th {\n",
       "        vertical-align: top;\n",
       "    }\n",
       "\n",
       "    .dataframe thead th {\n",
       "        text-align: right;\n",
       "    }\n",
       "</style>\n",
       "<table border=\"1\" class=\"dataframe\">\n",
       "  <thead>\n",
       "    <tr style=\"text-align: right;\">\n",
       "      <th></th>\n",
       "      <th>cpu</th>\n",
       "      <th>mem</th>\n",
       "      <th>timestamp</th>\n",
       "    </tr>\n",
       "  </thead>\n",
       "  <tbody>\n",
       "    <tr>\n",
       "      <th>0</th>\n",
       "      <td>11.9</td>\n",
       "      <td>37.7</td>\n",
       "      <td>2019-09-18 14:35:17.873512</td>\n",
       "    </tr>\n",
       "    <tr>\n",
       "      <th>1</th>\n",
       "      <td>20.2</td>\n",
       "      <td>36.7</td>\n",
       "      <td>2019-09-18 14:35:47.874322</td>\n",
       "    </tr>\n",
       "    <tr>\n",
       "      <th>2</th>\n",
       "      <td>30.4</td>\n",
       "      <td>37.2</td>\n",
       "      <td>2019-09-18 14:36:17.877765</td>\n",
       "    </tr>\n",
       "    <tr>\n",
       "      <th>3</th>\n",
       "      <td>7.3</td>\n",
       "      <td>36.5</td>\n",
       "      <td>2019-09-18 14:36:47.888490</td>\n",
       "    </tr>\n",
       "    <tr>\n",
       "      <th>4</th>\n",
       "      <td>8.8</td>\n",
       "      <td>36.6</td>\n",
       "      <td>2019-09-18 14:37:17.888299</td>\n",
       "    </tr>\n",
       "  </tbody>\n",
       "</table>\n",
       "</div>"
      ],
      "text/plain": [
       "    cpu   mem                   timestamp\n",
       "0  11.9  37.7  2019-09-18 14:35:17.873512\n",
       "1  20.2  36.7  2019-09-18 14:35:47.874322\n",
       "2  30.4  37.2  2019-09-18 14:36:17.877765\n",
       "3   7.3  36.5  2019-09-18 14:36:47.888490\n",
       "4   8.8  36.6  2019-09-18 14:37:17.888299"
      ]
     },
     "execution_count": 17,
     "metadata": {},
     "output_type": "execute_result"
    }
   ],
   "source": [
    "df.head()"
   ]
  },
  {
   "cell_type": "code",
   "execution_count": 18,
   "metadata": {},
   "outputs": [
    {
     "data": {
      "text/plain": [
       "<matplotlib.axes._subplots.AxesSubplot at 0x22fc45bbcc0>"
      ]
     },
     "execution_count": 18,
     "metadata": {},
     "output_type": "execute_result"
    },
    {
     "data": {
      "image/png": "[encoded data removed]",
      "text/plain": [
       "<Figure size 432x288 with 1 Axes>"
      ]
     },
     "metadata": {
      "needs_background": "light"
     },
     "output_type": "display_data"
    }
   ],
   "source": [
    "df.cpu.plot()"
   ]
  },
  {
   "cell_type": "code",
   "execution_count": 19,
   "metadata": {},
   "outputs": [
    {
     "data": {
      "text/plain": [
       "<matplotlib.axes._subplots.AxesSubplot at 0x22fc461d748>"
      ]
     },
     "execution_count": 19,
     "metadata": {},
     "output_type": "execute_result"
    },
    {
     "data": {
      "image/png": "[encoded data removed]",
      "text/plain": [
       "<Figure size 432x288 with 1 Axes>"
      ]
     },
     "metadata": {
      "needs_background": "light"
     },
     "output_type": "display_data"
    }
   ],
   "source": [
    "df.mem.plot()"
   ]
  },
  {
   "cell_type": "code",
   "execution_count": null,
   "metadata": {},
   "outputs": [],
   "source": []
  }
 ],
 "metadata": {
  "kernelspec": {
   "display_name": "Python 3",
   "language": "python",
   "name": "python3"
  },
  "language_info": {
   "codemirror_mode": {
    "name": "ipython",
    "version": 3
   },
   "file_extension": ".py",
   "mimetype": "text/x-python",
   "name": "python",
   "nbconvert_exporter": "python",
   "pygments_lexer": "ipython3",
   "version": "3.7.3"
  }
 },
 "nbformat": 4,
 "nbformat_minor": 2
}
